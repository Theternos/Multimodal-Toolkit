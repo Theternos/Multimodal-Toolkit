{
  "cells": [
    {
      "cell_type": "markdown",
      "metadata": {
        "id": "1DVzVhblSeTL"
      },
      "source": [
        "# Mount Drive"
      ]
    },
    {
      "cell_type": "code",
      "execution_count": null,
      "metadata": {
        "colab": {
          "base_uri": "https://localhost:8080/"
        },
        "id": "5WVc1QrAU1hE",
        "outputId": "982fa8fa-69e7-4164-c592-ec54275b7779"
      },
      "outputs": [
        {
          "name": "stdout",
          "output_type": "stream",
          "text": [
            "Mounted at /content/drive\n"
          ]
        }
      ],
      "source": [
        "from google.colab import drive\n",
        "drive.mount('/content/drive')\n",
        "import os\n",
        "os.chdir('/content/drive/MyDrive/[Turing]:Multimodality Delivery/Batch AQ/CodeDirectory')"
      ]
    },
    {
      "cell_type": "markdown",
      "metadata": {
        "id": "LC7h203fBquw"
      },
      "source": [
        "# Data CSV\n",
        "Create Data CSV and upload to designated folder."
      ]
    },
    {
      "cell_type": "code",
      "execution_count": null,
      "metadata": {
        "id": "wcNuOcrpVHLm"
      },
      "outputs": [],
      "source": [
        "import pandas as pd\n",
        "\n",
        "data = {\n",
        "    'Restaurant': ['data 1', 'data 2'],\n",
        "    'Customer Complaint Severity': [1, 2]\n",
        "}\n",
        "\n",
        "df = pd.DataFrame(data)\n",
        "\n",
        "df.to_csv(\"../DataDirectory/436474.csv\", index=False)"
      ]
    },
    {
      "cell_type": "markdown",
      "metadata": {
        "id": "3ByyNfeEBtI8"
      },
      "source": [
        "# Metadata\n",
        "Create Metadata CSV and upload to designated folder."
      ]
    },
    {
      "cell_type": "code",
      "execution_count": null,
      "metadata": {
        "id": "jqzw2OHqaUAY"
      },
      "outputs": [],
      "source": [
        "import pandas as pd\n",
        "\n",
        "data = {\n",
        "    'id': [436474],\n",
        "    'title': [\"Culinary Catastrophes: The Complaint Tsunami (Swarm Plot)\"],\n",
        "    'language': [\"python\"],\n",
        "    'png': [\"PNGDirectory/436474.png\"],\n",
        "    'code': [\"CodeDirectory/436474.ipynb\"],\n",
        "    # 'vector': [\"VectorDirectory/436474.html\"],\n",
        "    'vector': [\"NA\"],\n",
        "    # 'additional_files': [\"NA\"],\n",
        "    'additional_files': [\"AdditionalFilesDirectory/Angelina.otf\"],\n",
        "    'data': [\"DataDirectory/436474.csv\"]\n",
        "}\n",
        "\n",
        "df_metadata = pd.DataFrame(data)\n",
        "\n",
        "df_metadata = df_metadata.transpose()\n",
        "\n",
        "df_metadata.to_csv(\"../MetadataDirectory/436474.csv\", header=False)"
      ]
    },
    {
      "cell_type": "markdown",
      "metadata": {
        "id": "rQrucvO6ksuU"
      },
      "source": [
        "# Link Generator\n",
        "Generated the link of above generated Data.csv, Metadata.csv, and image.png links to upload."
      ]
    },
    {
      "cell_type": "code",
      "execution_count": null,
      "metadata": {
        "colab": {
          "base_uri": "https://localhost:8080/",
          "height": 54
        },
        "id": "etNyQrNe4Gf4",
        "outputId": "a57fcf46-5cde-497c-9ac1-5bc1c25762e1"
      },
      "outputs": [
        {
          "name": "stdout",
          "output_type": "stream",
          "text": [
            "^C\n"
          ]
        },
        {
          "data": {
            "text/html": [
              "<input type=\"text\" value=\"\n",
              "\n",
              "function fillInput(inputName, text){\n",
              "    const el = Array.from(document.querySelectorAll('span')).find(el => el.textContent.includes(inputName)).parentElement.parentElement.parentElement.childNodes[1].firstChild;\n",
              "    const nativeInputValueSetter = Object.getOwnPropertyDescriptor(\n",
              "      window.HTMLTextAreaElement.prototype,\n",
              "      'value').set;\n",
              "    nativeInputValueSetter.call(el, text);\n",
              "    const event = new Event('input', { bubbles: true });\n",
              "    el.dispatchEvent(event);\n",
              "}\n",
              "\n",
              "fillInput('Code link', 'https://drive.google.com/open?id=/bin/sh: 1: xattr: not found&usp=drive_copy');\n",
              "fillInput('CSV Data link', 'https://drive.google.com/open?id=/bin/sh: 1: xattr: not found&usp=drive_copy');\n",
              "fillInput('CSV Metadata link', 'https://drive.google.com/open?id=/bin/sh: 1: xattr: not found&usp=drive_copy');\n",
              "fillInput('Visualization link', 'https://drive.google.com/open?id=/bin/sh: 1: xattr: not found&usp=drive_copy');\n",
              "\" id=\"select-text\">\n",
              "                <script>\n",
              "                const selectText = document.getElementById(\"select-text\");\n",
              "                selectText.select();\n",
              "                </script>"
            ],
            "text/plain": [
              "<IPython.core.display.HTML object>"
            ]
          },
          "metadata": {},
          "output_type": "display_data"
        }
      ],
      "source": [
        "from subprocess import getoutput\n",
        "from IPython.display import HTML\n",
        "from google.colab import drive\n",
        "!apt-get install -qq xattr\n",
        "\n",
        "def get_shareable_link(file_path):\n",
        "  fid = getoutput(\"xattr -p 'user.drive.id' \" + \"'\" + file_path + \"'\")\n",
        "  url = f\"https://drive.google.com/open?id={fid}&usp=drive_copy\"\n",
        "  return url\n",
        "\n",
        "task = 436474\n",
        "batch = 'AU'\n",
        "helper_function = \"\"\"\n",
        "function fillInput(inputName, text){\n",
        "    const el = Array.from(document.querySelectorAll('span')).find(el => el.textContent.includes(inputName)).parentElement.parentElement.parentElement.childNodes[1].firstChild;\n",
        "    const nativeInputValueSetter = Object.getOwnPropertyDescriptor(\n",
        "      window.HTMLTextAreaElement.prototype,\n",
        "      'value').set;\n",
        "    nativeInputValueSetter.call(el, text);\n",
        "    const event = new Event('input', { bubbles: true });\n",
        "    el.dispatchEvent(event);\n",
        "}\n",
        "\"\"\"\n",
        "helper_calls = []\n",
        "for dir, inputName, ext in [\n",
        "    ['CodeDirectory', 'Code link', '.ipynb'],\n",
        "    ['DataDirectory', 'CSV Data link', '.csv'],\n",
        "    ['MetadataDirectory', 'CSV Metadata link', '.csv'],\n",
        "    ['PNGDirectory', 'Visualization link', '.png']\n",
        "  ]:\n",
        "  link = get_shareable_link(f\"/content/drive/MyDrive/[Turing]:Multimodality Delivery/Batch {batch}/{dir}/{task}{ext}\")\n",
        "  helper_calls.append(f\"fillInput('{inputName}', '{link}');\")\n",
        "\n",
        "helper_calls = \"\\n\".join(helper_calls)\n",
        "script = f\"\"\"\n",
        "{helper_function}\n",
        "{helper_calls}\n",
        "\"\"\"\n",
        "\n",
        "html_text = f'''<input type=\"text\" value=\"{script}\" id=\"select-text\">\n",
        "                <script>\n",
        "                const selectText = document.getElementById(\"select-text\");\n",
        "                selectText.select();\n",
        "                </script>'''\n",
        "display(HTML(html_text))"
      ]
    }
  ],
  "metadata": {
    "colab": {
      "collapsed_sections": [
        "qKPkgQGKkoWy",
        "AJsnxBq7-_JQ",
        "cpPacbOeou9s"
      ],
      "provenance": []
    },
    "kernelspec": {
      "display_name": "Python 3",
      "name": "python3"
    },
    "language_info": {
      "name": "python"
    }
  },
  "nbformat": 4,
  "nbformat_minor": 0
}
